{
 "cells": [
  {
   "cell_type": "code",
   "execution_count": null,
   "metadata": {},
   "outputs": [],
   "source": [
    "import warnings\n",
    "warnings.filterwarnings('ignore')\n",
    "import numpy as np\n",
    "import pandas as pd"
   ]
  },
  {
   "cell_type": "code",
   "execution_count": null,
   "metadata": {},
   "outputs": [],
   "source": [
    "train=pd.read_csv('train.csv')\n",
    "test=pd.read_csv('test.csv')\n",
    "print('Shape of Training Data:',train.shape,'Shape of Testing Data',test.shape)"
   ]
  },
  {
   "cell_type": "code",
   "execution_count": null,
   "metadata": {},
   "outputs": [],
   "source": [
    "train.head()"
   ]
  },
  {
   "cell_type": "code",
   "execution_count": null,
   "metadata": {},
   "outputs": [],
   "source": [
    "test.head()"
   ]
  },
  {
   "cell_type": "code",
   "execution_count": null,
   "metadata": {},
   "outputs": [],
   "source": [
    "train1=train.copy()\n",
    "test1=test.copy()\n",
    "\n",
    "train1.drop(columns=['PassengerId','Ticket','Cabin'],inplace=True)\n",
    "test1.drop(columns=['PassengerId','Ticket','Cabin'],inplace=True)"
   ]
  },
  {
   "cell_type": "code",
   "execution_count": null,
   "metadata": {},
   "outputs": [],
   "source": [
    "train1.head()"
   ]
  },
  {
   "cell_type": "code",
   "execution_count": null,
   "metadata": {},
   "outputs": [],
   "source": [
    "def gettitle(name):\n",
    "    str1=name.split(',')[1]\n",
    "    str2=str1.split('.')[0]\n",
    "    str3=str2.strip()\n",
    "    return str3\n",
    "\n",
    "for data in [train1,test1]:\n",
    "    for i in range(data.shape[0]):\n",
    "        data.Name[i]=gettitle(data.Name[i])\n",
    "\n",
    "train1.head()\n"
   ]
  },
  {
   "cell_type": "code",
   "execution_count": null,
   "metadata": {},
   "outputs": [],
   "source": [
    "test1.head()"
   ]
  },
  {
   "cell_type": "code",
   "execution_count": null,
   "metadata": {},
   "outputs": [],
   "source": [
    "train1.isna().sum()"
   ]
  },
  {
   "cell_type": "code",
   "execution_count": null,
   "metadata": {},
   "outputs": [],
   "source": [
    "test1.isna().sum()"
   ]
  },
  {
   "cell_type": "code",
   "execution_count": null,
   "metadata": {},
   "outputs": [],
   "source": [
    "train1.Embarked.value_counts(dropna=False)"
   ]
  },
  {
   "cell_type": "code",
   "execution_count": null,
   "metadata": {},
   "outputs": [],
   "source": [
    "import seaborn as sns\n",
    "import matplotlib.pyplot as plt\n",
    "\n",
    "sns.distplot(train1.Age)\n",
    "plt.show()"
   ]
  },
  {
   "cell_type": "code",
   "execution_count": null,
   "metadata": {},
   "outputs": [],
   "source": [
    "sns.distplot(train1.Fare)\n",
    "plt.show()"
   ]
  },
  {
   "cell_type": "code",
   "execution_count": null,
   "metadata": {},
   "outputs": [],
   "source": [
    "train2=train1.copy()\n",
    "test2=test1.copy()\n",
    "\n",
    "train2.Embarked.fillna('S',inplace=True)\n",
    "train2.Age.fillna(train2.Age.median(),inplace=True)\n",
    "\n",
    "test2.Age.fillna(train2.Age.median(),inplace=True)\n",
    "test2.Fare.fillna(train2.Fare.mean(),inplace=True)\n",
    "\n"
   ]
  },
  {
   "cell_type": "code",
   "execution_count": null,
   "metadata": {},
   "outputs": [],
   "source": [
    "train2.duplicated().sum()"
   ]
  },
  {
   "cell_type": "code",
   "execution_count": null,
   "metadata": {},
   "outputs": [],
   "source": [
    "train2.drop_duplicates(inplace=True)\n",
    "train2.duplicated().sum()"
   ]
  },
  {
   "cell_type": "code",
   "execution_count": null,
   "metadata": {},
   "outputs": [],
   "source": [
    "train2.head()"
   ]
  },
  {
   "cell_type": "code",
   "execution_count": null,
   "metadata": {},
   "outputs": [],
   "source": [
    "plt.figure(figsize=(10,5))\n",
    "n=0\n",
    "for col in [\"Survived\",'Pclass','Sex','SibSp','Parch','Embarked']:\n",
    "    n+=1\n",
    "    plt.subplot(3,2,n)\n",
    "    sns.countplot(x = train2[col])\n",
    "    plt.title(f'Distribution of {col}')\n",
    "plt.tight_layout()"
   ]
  },
  {
   "cell_type": "code",
   "execution_count": null,
   "metadata": {},
   "outputs": [],
   "source": [
    "plt.figure(figsize=(10,5))\n",
    "sns.countplot(y=train2.Name)\n",
    "plt.title('Distribution of Name')\n",
    "plt.tight_layout()"
   ]
  },
  {
   "cell_type": "code",
   "execution_count": null,
   "metadata": {},
   "outputs": [],
   "source": [
    "plt.figure(figsize=(10,5))\n",
    "n=0\n",
    "for col in ['Age','Fare']:\n",
    "    n+=1\n",
    "    plt.subplot(2,2,n)\n",
    "    sns.distplot(x = train2[col])\n",
    "    plt.title(f'Distribution of {col}')\n",
    "    n+=1\n",
    "    plt.subplot(2,2,n)\n",
    "    sns.boxplot(x = train2[col])\n",
    "    plt.title(f'Boxplot of {col}')\n",
    "plt.tight_layout()"
   ]
  },
  {
   "cell_type": "code",
   "execution_count": null,
   "metadata": {},
   "outputs": [],
   "source": [
    "plt.figure(figsize=(10,5))\n",
    "cor=train2.corr()\n",
    "sns.heatmap(cor,annot=True,cmap='Blues')\n",
    "plt.title('Correlation Plot')\n",
    "plt.tight_layout()"
   ]
  },
  {
   "cell_type": "code",
   "execution_count": null,
   "metadata": {},
   "outputs": [],
   "source": [
    "data=pd.concat([train2,test2],axis=0,ignore_index=True)\n",
    "data[['Pclass','SibSp','Parch']]=data[['Pclass','SibSp','Parch']].astype(object)\n",
    "data=pd.get_dummies(data)\n",
    "data.head()"
   ]
  },
  {
   "cell_type": "code",
   "execution_count": null,
   "metadata": {},
   "outputs": [],
   "source": [
    "train=data.iloc[:train2.shape[0],]\n",
    "test=data.iloc[train2.shape[0]:,1:]\n",
    "\n",
    "train.isna().sum()\n",
    "train.shape, test.shape"
   ]
  },
  {
   "cell_type": "code",
   "execution_count": null,
   "metadata": {},
   "outputs": [],
   "source": [
    "train.Age=(train.Age-train.Age.mean())/train.Age.std()\n",
    "train.Fare=(train.Fare-train.Fare.mean())/train.Fare.std()\n",
    "\n",
    "test.Age=(test.Age-train.Age.mean())/train.Age.std()\n",
    "test.Fare=(test.Fare-train.Fare.mean())/train.Fare.std()\n",
    "\n",
    "round(train.Age.var()),round(train.Fare.var())"
   ]
  },
  {
   "cell_type": "code",
   "execution_count": null,
   "metadata": {},
   "outputs": [],
   "source": [
    "from sklearn.model_selection import train_test_split\n",
    "\n",
    "x=train.drop(columns='Survived')\n",
    "y=train.Survived\n",
    "\n",
    "xtrain,xval,ytrain,yval=train_test_split(x,y,test_size=0.2,random_state=50,shuffle=True)\n",
    "\n",
    "xtrain.shape,ytrain.shape,xval.shape,yval.shape"
   ]
  },
  {
   "cell_type": "code",
   "execution_count": null,
   "metadata": {},
   "outputs": [],
   "source": [
    "from sklearn.linear_model import LogisticRegression\n",
    "\n",
    "model=LogisticRegression()\n",
    "lr=model.fit(xtrain,ytrain)\n",
    "\n",
    "from sklearn.model_selection import cross_val_score\n",
    "train_score=cross_val_score(lr,xtrain,ytrain,scoring='accuracy',cv=10).mean()\n",
    "val_score=cross_val_score(lr,xval,yval,scoring='accuracy',cv=10).mean()\n",
    "\n",
    "print('train score:',train_score,'validation score:',val_score)"
   ]
  }
 ],
 "metadata": {
  "kernelspec": {
   "display_name": "Python 3.8.13 ('CS177H')",
   "language": "python",
   "name": "python3"
  },
  "language_info": {
   "codemirror_mode": {
    "name": "ipython",
    "version": 3
   },
   "file_extension": ".py",
   "mimetype": "text/x-python",
   "name": "python",
   "nbconvert_exporter": "python",
   "pygments_lexer": "ipython3",
   "version": "3.8.13"
  },
  "orig_nbformat": 4,
  "vscode": {
   "interpreter": {
    "hash": "497ba799c96c9934d55d589c873b7e86f3b4a3cc8ee93e27d6da524ac7a2cce3"
   }
  }
 },
 "nbformat": 4,
 "nbformat_minor": 2
}
